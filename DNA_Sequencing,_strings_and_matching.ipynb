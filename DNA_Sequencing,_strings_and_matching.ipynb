{
  "nbformat": 4,
  "nbformat_minor": 0,
  "metadata": {
    "colab": {
      "name": "DNA Sequencing, strings and matching.ipynb",
      "provenance": []
    },
    "kernelspec": {
      "name": "python3",
      "display_name": "Python 3"
    },
    "language_info": {
      "name": "python"
    }
  },
  "cells": [
    {
      "cell_type": "markdown",
      "source": [
        "## Naive Exact Matching Alg"
      ],
      "metadata": {
        "id": "PzTkxgJ5K_jT"
      }
    },
    {
      "cell_type": "code",
      "execution_count": 1,
      "metadata": {
        "id": "hwQsw27xK2Xj"
      },
      "outputs": [],
      "source": [
        "def naive(p,t):\n",
        "  occurances = []\n",
        "  for i in range(len(t) - len(p) + 1): # loop over alignments\n",
        "    match = True\n",
        "    for j in range(len(p)): # loop over characters\n",
        "      if t[i+j] != p[j]: # compare characters\n",
        "        match = False\n",
        "        break\n",
        "      if match:\n",
        "        occurances.append(i) # all matchs chars; record\n",
        "    return occurances"
      ]
    },
    {
      "cell_type": "markdown",
      "source": [
        "## Return Reverse Complement"
      ],
      "metadata": {
        "id": "D_-1x57ELfxZ"
      }
    },
    {
      "cell_type": "code",
      "source": [
        "def reverseComplement(s):\n",
        "  complement = {'A': 'T', 'C': 'G', 'G':'C', 'T': 'A', 'N':'N'}\n",
        "  t = ''\n",
        "  for base in s:\n",
        "    t = complement[base] + t\n",
        "  return t"
      ],
      "metadata": {
        "id": "ivH9Y_nJLeA6"
      },
      "execution_count": null,
      "outputs": []
    },
    {
      "cell_type": "markdown",
      "source": [
        "## Read FASTA file reference genome"
      ],
      "metadata": {
        "id": "lXqNyAuQL0uw"
      }
    },
    {
      "cell_type": "code",
      "source": [
        "def readGenome(filename):\n",
        "  genome = ''\n",
        "  with open(filename, 'r') as f:\n",
        "    for line in f:\n",
        "      # ignore header line with genome information\n",
        "      if not line[0] == '>':\n",
        "        genome+= line.rstrip()\n",
        "  return genome"
      ],
      "metadata": {
        "id": "h9ilC1c8L32W"
      },
      "execution_count": 2,
      "outputs": []
    },
    {
      "cell_type": "markdown",
      "source": [
        "## Read FASTQ file sequencing reads"
      ],
      "metadata": {
        "id": "wl-7rhLvPGNk"
      }
    },
    {
      "cell_type": "code",
      "source": [
        "def readFastq(filename):\n",
        "  sequences = []\n",
        "  qualities = []\n",
        "  with open(filename) as fh:\n",
        "    while True:\n",
        "      fh.readline() #skip name line\n",
        "      seq = fh.readline().rstrip() # read base sequence\n",
        "      fh.readline() # skip placeholder line\n",
        "      qual = fh.readline().rstrip() # base quality line\n",
        "      if len(seq) == 0:\n",
        "        break\n",
        "      sequences.append(seq)\n",
        "      qualities.append(qual)\n",
        "  return sequences, qualities\n"
      ],
      "metadata": {
        "id": "1LVmxDM5PAnA"
      },
      "execution_count": null,
      "outputs": []
    }
  ]
}
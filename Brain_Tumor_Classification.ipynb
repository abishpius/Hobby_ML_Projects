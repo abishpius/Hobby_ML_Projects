{
  "nbformat": 4,
  "nbformat_minor": 0,
  "metadata": {
    "kernelspec": {
      "language": "python",
      "display_name": "Python 3",
      "name": "python3"
    },
    "language_info": {
      "name": "python",
      "version": "3.7.6",
      "mimetype": "text/x-python",
      "codemirror_mode": {
        "name": "ipython",
        "version": 3
      },
      "pygments_lexer": "ipython3",
      "nbconvert_exporter": "python",
      "file_extension": ".py"
    },
    "colab": {
      "name": "Brain_Tumor_Classification.ipynb",
      "provenance": [],
      "collapsed_sections": [],
      "include_colab_link": true
    }
  },
  "cells": [
    {
      "cell_type": "markdown",
      "metadata": {
        "id": "view-in-github",
        "colab_type": "text"
      },
      "source": [
        "<a href=\"https://colab.research.google.com/github/abishpius/Hobby_ML_Projects/blob/main/Brain_Tumor_Classification.ipynb\" target=\"_parent\"><img src=\"https://colab.research.google.com/assets/colab-badge.svg\" alt=\"Open In Colab\"/></a>"
      ]
    },
    {
      "cell_type": "markdown",
      "metadata": {
        "id": "rTpuX4-S8rJo"
      },
      "source": [
        "# Brain Tumor Classification"
      ]
    },
    {
      "cell_type": "markdown",
      "metadata": {
        "id": "iZucBMvi8Q8x"
      },
      "source": [
        "## Clone the Github Repo to access the Dataset"
      ]
    },
    {
      "cell_type": "code",
      "metadata": {
        "id": "ibeGaZg8fkuV"
      },
      "source": [
        "!git clone https://github.com/Ashish-Arya-CS/Coursera-Content.git"
      ],
      "execution_count": null,
      "outputs": []
    },
    {
      "cell_type": "markdown",
      "metadata": {
        "id": "Svv2b2VF87Gy"
      },
      "source": [
        "## Import necessary Libraries "
      ]
    },
    {
      "cell_type": "code",
      "metadata": {
        "trusted": true,
        "id": "UKtfbc8autX4"
      },
      "source": [
        "import os\n",
        "import random\n",
        "from tqdm import tqdm\n",
        "import numpy as np\n",
        "import pandas as pd\n",
        "import matplotlib.pyplot as plt\n",
        "import seaborn as sns\n",
        "\n",
        "import cv2\n",
        "import tensorflow as tf\n",
        "from tensorflow.keras.preprocessing.image import load_img,ImageDataGenerator, array_to_img\n",
        "from tensorflow.keras.applications import EfficientNetB1\n",
        "\n",
        "from tensorflow.keras.models import Model\n",
        "from tensorflow.keras.layers import Flatten,Dense,Conv2D,Dropout,GlobalAveragePooling2D\n",
        "\n",
        "from tensorflow.keras.optimizers import Adam\n",
        "from tensorflow.keras.callbacks import ModelCheckpoint,EarlyStopping\n",
        "import imutils    \n"
      ],
      "execution_count": null,
      "outputs": []
    },
    {
      "cell_type": "markdown",
      "metadata": {
        "id": "zQY0-G-n90nK"
      },
      "source": [
        "## Creating Directories to store Cropped Images"
      ]
    },
    {
      "cell_type": "code",
      "metadata": {
        "id": "uzNB7ARx0IAl"
      },
      "source": [
        "# Create Directory for Training Data\n",
        "os.mkdir(\"/content/Crop-Brain-MRI\")\n",
        "os.mkdir(\"/content/Crop-Brain-MRI/glioma_tumor\")\n",
        "os.mkdir(\"/content/Crop-Brain-MRI/meningioma_tumor\")\n",
        "os.mkdir(\"/content/Crop-Brain-MRI/no_tumor\")\n",
        "os.mkdir(\"/content/Crop-Brain-MRI/pituitary_tumor\")"
      ],
      "execution_count": null,
      "outputs": []
    },
    {
      "cell_type": "code",
      "metadata": {
        "id": "GY3ZoFksAOtL"
      },
      "source": [
        "# Create Directory for Testing Data\n",
        "os.mkdir(\"/content/Test-Data\")\n",
        "os.mkdir(\"/content/Test-Data/glioma_tumor\")\n",
        "os.mkdir(\"/content/Test-Data/meningioma_tumor\")\n",
        "os.mkdir(\"/content/Test-Data/no_tumor\")\n",
        "os.mkdir(\"/content/Test-Data/pituitary_tumor\")"
      ],
      "execution_count": null,
      "outputs": []
    },
    {
      "cell_type": "markdown",
      "metadata": {
        "id": "CjL25jsG-cfr"
      },
      "source": [
        "## Data Visualization"
      ]
    },
    {
      "cell_type": "code",
      "metadata": {
        "id": "YTF3Y9qH-xuw"
      },
      "source": [
        "train_dir = \"/content/Coursera-Content/Brain-MRI/Training/\"\n",
        "test_dir = \"/content/Coursera-Content/Brain-MRI/Testing/\"\n",
        "classes = os.listdir(\"/content/Coursera-Content/Brain-MRI/Training\")\n",
        "files_path_dict = {}\n",
        "\n",
        "for c in classes:\n",
        "  files_path_dict[c] = list(map(lambda x : train_dir+c+'/'+x,\n",
        "              os.listdir(train_dir+c)))\n",
        "  \n",
        "plt.figure(figsize=(17,17))\n",
        "index = 0\n",
        "\n",
        "for c in classes:\n",
        "  random.shuffle(files_path_dict[c])\n",
        "  path_list = files_path_dict[c][:5]\n",
        "\n",
        "  for i in range(1,5):\n",
        "    index+=1\n",
        "    plt.subplot(4,4, index)\n",
        "    plt.imshow(load_img(path_list[i]))\n",
        "    plt.title(c)"
      ],
      "execution_count": null,
      "outputs": []
    },
    {
      "cell_type": "markdown",
      "metadata": {
        "id": "h8lT8JvM-yvZ"
      },
      "source": [
        "## Create a Function to Crop Images"
      ]
    },
    {
      "cell_type": "code",
      "metadata": {
        "trusted": true,
        "id": "PC9Y44H2utX9"
      },
      "source": [
        "def crop_image(image, plot=False):\n",
        "    \n",
        "    img_gray = cv2.cvtColor(image, cv2.COLOR_BGR2GRAY)\n",
        "    img_gray = cv2.GaussianBlur(img_gray, (5, 5), 0)\n",
        "    \n",
        "    img_thresh = cv2.threshold(img_gray, 45, 255, cv2.THRESH_BINARY)[1]\n",
        "    img_thresh = cv2.erode(img_thresh, None, iterations=2)\n",
        "    img_thresh = cv2.dilate(img_thresh, None, iterations=2)\n",
        "\n",
        "    contours = cv2.findContours(img_thresh.copy(), cv2.RETR_EXTERNAL, cv2.CHAIN_APPROX_SIMPLE)\n",
        "    contours = imutils.grab_contours(contours)\n",
        "    c = max(contours, key=cv2.contourArea)\n",
        "\n",
        "    extLeft = tuple(c[c[:, :, 0].argmin()][0])\n",
        "    extRight = tuple(c[c[:, :, 0].argmax()][0])\n",
        "    extTop = tuple(c[c[:, :, 1].argmin()][0])\n",
        "    extBot = tuple(c[c[:, :, 1].argmax()][0])\n",
        "    \n",
        "    new_image = image[extTop[1]:extBot[1], extLeft[0]:extRight[0]]            \n",
        "\n",
        "    if plot:\n",
        "        plt.figure()\n",
        "        plt.subplot(1, 2, 1)\n",
        "        plt.imshow(image)\n",
        "        plt.tick_params(axis='both', which='both', top=False, bottom=False, left=False, right=False,labelbottom=False, labeltop=False, labelleft=False, labelright=False)\n",
        "        plt.title('Original Image')\n",
        "        plt.subplot(1, 2, 2)\n",
        "        plt.imshow(new_image)\n",
        "        plt.tick_params(axis='both', which='both',top=False, bottom=False, left=False, right=False,labelbottom=False, labeltop=False, labelleft=False, labelright=False)\n",
        "        plt.title('Cropped Image')\n",
        "        plt.show()\n",
        "    \n",
        "    return new_image\n"
      ],
      "execution_count": null,
      "outputs": []
    },
    {
      "cell_type": "code",
      "metadata": {
        "id": "tb4ffIF5REjK"
      },
      "source": [
        "example_img = cv2.imread(\"/content/Coursera-Content/Brain-MRI/Training/glioma_tumor/gg (101).jpg\")\n",
        "cropped_image = crop_image(example_img, plot = True)"
      ],
      "execution_count": null,
      "outputs": []
    },
    {
      "cell_type": "markdown",
      "metadata": {
        "id": "i80C1X39_QiK"
      },
      "source": [
        "## Saving The Cropped Images "
      ]
    },
    {
      "cell_type": "code",
      "metadata": {
        "trusted": true,
        "id": "-sTiAazGutX-"
      },
      "source": [
        "# Crop the Training Images and Save it to the Directory we previously cretaed\n",
        "glioma = train_dir + \"glioma_tumor\"\n",
        "meningioma = train_dir + \"meningioma_tumor\"\n",
        "no_tumor = train_dir + \"no_tumor\"\n",
        "pituitary = train_dir + \"pituitary_tumor\"\n",
        "\n",
        "j=0\n",
        "for i in tqdm(os.listdir(glioma)):\n",
        "  path = os.path.join(glioma, i)\n",
        "  img = cv2.imread(path)\n",
        "  img = crop_image(img, plot = False  )\n",
        "  if img is not None:\n",
        "    img = cv2.resize(img, (224,224))\n",
        "    save_path = \"/content/Crop-Brain-MRI/glioma_tumor/\" + str(j) + \".jpg\"\n",
        "    cv2.imwrite(save_path, img)\n",
        "    j = j+1\n",
        "\n",
        "j=0\n",
        "for i in tqdm(os.listdir(meningioma)):\n",
        "  path = os.path.join(meningioma, i)\n",
        "  img = cv2.imread(path)\n",
        "  img = crop_image(img, plot = False  )\n",
        "  if img is not None:\n",
        "    img = cv2.resize(img, (224,224))\n",
        "    save_path = \"/content/Crop-Brain-MRI/meningioma_tumor/\" + str(j) + \".jpg\"\n",
        "    cv2.imwrite(save_path, img)\n",
        "    j = j+1\n",
        "\n",
        "j=0\n",
        "for i in tqdm(os.listdir(no_tumor)):\n",
        "  path = os.path.join(no_tumor, i)\n",
        "  img = cv2.imread(path)\n",
        "  img = crop_image(img, plot = False  )\n",
        "  if img is not None:\n",
        "    img = cv2.resize(img, (224,224))\n",
        "    save_path = \"/content/Crop-Brain-MRI/no_tumor/\" + str(j) + \".jpg\"\n",
        "    cv2.imwrite(save_path, img)\n",
        "    j = j+1\n",
        "\n",
        "j=0\n",
        "for i in tqdm(os.listdir(pituitary)):\n",
        "  path = os.path.join(pituitary, i)\n",
        "  img = cv2.imread(path)\n",
        "  img = crop_image(img, plot = False  )\n",
        "  if img is not None:\n",
        "    img = cv2.resize(img, (224,224))\n",
        "    save_path = \"/content/Crop-Brain-MRI/pituitary/\" + str(j) + \".jpg\"\n",
        "    cv2.imwrite(save_path, img)\n",
        "    j = j+1"
      ],
      "execution_count": null,
      "outputs": []
    },
    {
      "cell_type": "code",
      "metadata": {
        "trusted": true,
        "id": "5BDz8hYHutX_"
      },
      "source": [
        "# Crop the Testing Images and Save it to the Directory we previously cretaed\n",
        "# Crop the Training Images and Save it to the Directory we previously cretaed\n",
        "glioma = test_dir + \"glioma_tumor\"\n",
        "meningioma = test_dir + \"meningioma_tumor\"\n",
        "no_tumor = test_dir + \"no_tumor\"\n",
        "pituitary = test_dir + \"pituitary_tumor\"\n",
        "\n",
        "j=0\n",
        "for i in tqdm(os.listdir(glioma)):\n",
        "  path = os.path.join(glioma, i)\n",
        "  img = cv2.imread(path)\n",
        "  img = crop_image(img, plot = False  )\n",
        "  if img is not None:\n",
        "    img = cv2.resize(img, (224,224))\n",
        "    save_path = \"/content/Test-Data/glioma_tumor/\" + str(j) + \".jpg\"\n",
        "    cv2.imwrite(save_path, img)\n",
        "    j = j+1\n",
        "\n",
        "j=0\n",
        "for i in tqdm(os.listdir(meningioma)):\n",
        "  path = os.path.join(meningioma, i)\n",
        "  img = cv2.imread(path)\n",
        "  img = crop_image(img, plot = False  )\n",
        "  if img is not None:\n",
        "    img = cv2.resize(img, (224,224))\n",
        "    save_path = \"/content/Test-Data/meningioma_tumor/\" + str(j) + \".jpg\"\n",
        "    cv2.imwrite(save_path, img)\n",
        "    j = j+1\n",
        "\n",
        "j=0\n",
        "for i in tqdm(os.listdir(no_tumor)):\n",
        "  path = os.path.join(no_tumor, i)\n",
        "  img = cv2.imread(path)\n",
        "  img = crop_image(img, plot = False  )\n",
        "  if img is not None:\n",
        "    img = cv2.resize(img, (224,224))\n",
        "    save_path = \"/content/Test-Data/no_tumor/\" + str(j) + \".jpg\"\n",
        "    cv2.imwrite(save_path, img)\n",
        "    j = j+1\n",
        "\n",
        "j=0\n",
        "for i in tqdm(os.listdir(pituitary)):\n",
        "  path = os.path.join(pituitary, i)\n",
        "  img = cv2.imread(path)\n",
        "  img = crop_image(img, plot = False  )\n",
        "  if img is not None:\n",
        "    img = cv2.resize(img, (224,224))\n",
        "    save_path = \"/content/Test-Data/pituitary/\" + str(j) + \".jpg\"\n",
        "    cv2.imwrite(save_path, img)\n",
        "    j = j+1"
      ],
      "execution_count": null,
      "outputs": []
    },
    {
      "cell_type": "markdown",
      "metadata": {
        "id": "gO6qUtpMutYD"
      },
      "source": [
        "## Perform Data Augmentation and Prepare the Train, Validation and Test Dataset"
      ]
    },
    {
      "cell_type": "code",
      "metadata": {
        "trusted": true,
        "id": "nYupR0plutYD"
      },
      "source": [
        "# Use Image Data Generator to perform this task.\n",
        "datagen = ImageDataGenerator(rotation_range=10,\n",
        "            height_shift_range = 0.2, horizontal_flip = True,\n",
        "            validation_split = 0.2)\n",
        "train_data = datagen.flow_from_directory('/content/Crop-Brain-MRI/',\n",
        "                                         target_size = (224,224),\n",
        "                                         class_mode = 'categorical',\n",
        "                                         batch_size = 32,\n",
        "                                         subset = 'training')\n",
        "valid_data = datagen.flow_from_directory('/content/Crop-Brain-MRI/',\n",
        "                                         target_size = (224,224),\n",
        "                                         class_mode = 'categorical',\n",
        "                                         batch_size = 32,\n",
        "                                         subset = 'validation')\n",
        "test_datagen = ImageDataGenerator()\n",
        "test_data = datagen.flow_from_directory('/content/Test-Data/',\n",
        "                                         target_size = (224,224),\n",
        "                                         class_mode = 'categorical',\n",
        "                                       )\n"
      ],
      "execution_count": null,
      "outputs": []
    },
    {
      "cell_type": "code",
      "metadata": {
        "id": "XWNduohCB7_X"
      },
      "source": [
        "# View the class dictionary\n",
        "print(train_data.class_indices)\n",
        "print(test_data.class_indices)"
      ],
      "execution_count": null,
      "outputs": []
    },
    {
      "cell_type": "code",
      "metadata": {
        "id": "3v7rXZbjCDAs"
      },
      "source": [
        "# View the augmented data.\n",
        "sample_x, sample_y = next(train_data)\n",
        "plt.figure(figsize=(12,9))\n",
        "for i in range(6):\n",
        "  plt.subplot(2,3,i+1)\n",
        "  sample = array_to_img(sample_x[i])\n",
        "  plt.axis('off')\n",
        "  plt.grid(False)\n",
        "  plt.imshow(sample)\n",
        "plt.show()\n"
      ],
      "execution_count": null,
      "outputs": []
    },
    {
      "cell_type": "markdown",
      "metadata": {
        "id": "8qY4YSGuutYE"
      },
      "source": [
        "## Build and Compile the Model "
      ]
    },
    {
      "cell_type": "code",
      "metadata": {
        "id": "nZWBuyccCqFr"
      },
      "source": [
        "# Build the Model\n",
        "effnet = EfficientNetB1(weights = 'imagenet',\n",
        "          include_top = False, input_shape = (224,224,3))\n",
        "model = effnet.output\n",
        "model = GlobalAveragePooling2D()(model)\n",
        "model = Dropout(0.5)(model)\n",
        "model = Dense(4, activation='softmax')(model)\n",
        "model = Model(inputs = effnet.input, outputs = model )\n",
        "\n",
        "model.summary()"
      ],
      "execution_count": null,
      "outputs": []
    },
    {
      "cell_type": "code",
      "metadata": {
        "id": "tew5MWfcH4rI"
      },
      "source": [
        "model.compile(optimizer=  Adam(learning_rate= 0.0001),\n",
        "              loss = 'categorical_crossentropy',\n",
        "        metrics = ['accuracy'] )\n",
        "checkpoint = ModelCheckpoint('model.h5', monitor = 'val_accuracy',\n",
        "                  save_best_only = True, mode = 'auto', verbose = 1)\n",
        "earlystop = EarlyStopping(monitor = 'val_accuracy', patience=5,\n",
        "                          mode = 'auto', verbose = 1)"
      ],
      "execution_count": null,
      "outputs": []
    },
    {
      "cell_type": "markdown",
      "metadata": {
        "id": "DFcjorVNutYF"
      },
      "source": [
        "## Model Training and Model Evaluation"
      ]
    },
    {
      "cell_type": "code",
      "metadata": {
        "trusted": true,
        "id": "BlpDiDd3utYF"
      },
      "source": [
        "# Train the model\n",
        "history = model.fit(train_data,\n",
        "              epochs = 7, validation_data = valid_data,\n",
        "      verbose = 1, callbacks = [checkpoint, earlystop])"
      ],
      "execution_count": null,
      "outputs": []
    },
    {
      "cell_type": "code",
      "metadata": {
        "trusted": true,
        "id": "LbNZtVC7utYG"
      },
      "source": [
        "# Plot the training curves\n",
        "plt.style.use('ggplot')\n",
        "plt.figure(figsize = (12,8))\n",
        "epochs = range(1,8)\n",
        "plt.subplot(1,2,1)\n",
        "plt.plot(epochs, history.history['accuracy'], 'go-')\n",
        "plt.plot(epochs, history.history['val_accuracy'], 'ro-')\n",
        "plt.title(\"Model Accuracy\")\n",
        "plt.xlabel(\"Epochs\")\n",
        "plt.ylabel('Accuracy')\n",
        "plt.legend(['Train', 'Val'], loc = 'upper left')\n",
        "\n",
        "plt.subplot(1,2,2)\n",
        "plt.plot(epochs, history.history['loss'], 'go-')\n",
        "plt.plot(epochs, history.history['val_loss'], 'ro-')\n",
        "plt.title(\"Model Loss\")\n",
        "plt.xlabel(\"Epochs\")\n",
        "plt.ylabel('Loss')\n",
        "plt.legend(['Train', 'Val'], loc = 'upper left')\n",
        "\n",
        "plt.show()"
      ],
      "execution_count": null,
      "outputs": []
    },
    {
      "cell_type": "code",
      "metadata": {
        "trusted": true,
        "id": "F55_FNzZutYF"
      },
      "source": [
        "# Evaluate the model on Test Set\n",
        "model.evaluate(test_data)"
      ],
      "execution_count": null,
      "outputs": []
    },
    {
      "cell_type": "markdown",
      "metadata": {
        "id": "qx5tUD-JutYH"
      },
      "source": [
        "## Obtaining Predictions on Test Images"
      ]
    },
    {
      "cell_type": "code",
      "metadata": {
        "id": "M80yL7QlDgMX"
      },
      "source": [
        "# Obtain Predictions on Test Images\n",
        "class_dict = {0: 'glioma_tumor',\n",
        "              1: 'meningioma_tumor',\n",
        "              2: \"no_tumor\",\n",
        "              3: \"pituitary_tumor\"}\n",
        "test_img1 = cv2.imread(\"/content/Test-Data/meningioma_tumor/1.jpg\")\n",
        "\n",
        "plt.imshow(test_img1)\n",
        "plt.grid(False)\n",
        "test_img1 = np.expand_dims(test_img1, axis = 0)\n",
        "pred = model.predict(test_img1)\n",
        "pred = np.argmax(pred)\n",
        "pred_class = class_dict[pred]\n",
        "print(pred_class)"
      ],
      "execution_count": null,
      "outputs": []
    },
    {
      "cell_type": "code",
      "metadata": {
        "id": "tokFzStVNts3"
      },
      "source": [
        ""
      ],
      "execution_count": null,
      "outputs": []
    }
  ]
}
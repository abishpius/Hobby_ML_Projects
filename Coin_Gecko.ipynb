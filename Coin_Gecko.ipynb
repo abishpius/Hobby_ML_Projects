{
  "nbformat": 4,
  "nbformat_minor": 0,
  "metadata": {
    "colab": {
      "provenance": []
    },
    "kernelspec": {
      "name": "python3",
      "display_name": "Python 3"
    },
    "language_info": {
      "name": "python"
    }
  },
  "cells": [
    {
      "cell_type": "markdown",
      "source": [
        "# Coin Gecko LSTM for Crypto Currency Demo"
      ],
      "metadata": {
        "id": "t-fP7t5vtB7a"
      }
    },
    {
      "cell_type": "code",
      "execution_count": 2,
      "metadata": {
        "colab": {
          "base_uri": "https://localhost:8080/"
        },
        "id": "yGsf4sSEd669",
        "outputId": "096e9875-c7b3-4023-c6ca-9a3a8858c814"
      },
      "outputs": [
        {
          "output_type": "stream",
          "name": "stdout",
          "text": [
            "Requirement already satisfied: requests in /usr/local/lib/python3.10/dist-packages (2.31.0)\n",
            "Requirement already satisfied: charset-normalizer<4,>=2 in /usr/local/lib/python3.10/dist-packages (from requests) (3.3.2)\n",
            "Requirement already satisfied: idna<4,>=2.5 in /usr/local/lib/python3.10/dist-packages (from requests) (3.6)\n",
            "Requirement already satisfied: urllib3<3,>=1.21.1 in /usr/local/lib/python3.10/dist-packages (from requests) (2.0.7)\n",
            "Requirement already satisfied: certifi>=2017.4.17 in /usr/local/lib/python3.10/dist-packages (from requests) (2023.11.17)\n"
          ]
        }
      ],
      "source": [
        "!pip install requests"
      ]
    },
    {
      "cell_type": "markdown",
      "source": [
        "## Load Data"
      ],
      "metadata": {
        "id": "bwpDvkxstLqP"
      }
    },
    {
      "cell_type": "code",
      "source": [
        "from google.colab import userdata # Used for Secrets\n",
        "import requests\n",
        "import pandas as pd\n",
        "import numpy as np\n",
        "from datetime import datetime, timezone\n",
        "\n",
        "import seaborn as sns\n",
        "import matplotlib.pyplot as plt\n",
        "\n",
        "import tensorflow as tf\n",
        "from sklearn.preprocessing import MinMaxScaler\n",
        "from sklearn.model_selection import train_test_split\n",
        "from tensorflow.keras.models import Sequential\n",
        "from tensorflow.keras.layers import LSTM, Dense\n",
        "\n",
        "\n",
        "# Replace with your actual API key\n",
        "api_key = userdata.get('coin_gecko')"
      ],
      "metadata": {
        "id": "yGHNA4G4taL_"
      },
      "execution_count": 63,
      "outputs": []
    },
    {
      "cell_type": "markdown",
      "source": [
        "### Test Public Endpoint is Available"
      ],
      "metadata": {
        "id": "_8l4hhtquozw"
      }
    },
    {
      "cell_type": "code",
      "source": [
        "# API endpoint for ping\n",
        "url = 'https://api.coingecko.com/api/v3/ping'\n",
        "\n",
        "# Making the GET request\n",
        "response = requests.get(url)\n",
        "\n",
        "# Checking the status code\n",
        "if response.status_code == 200:\n",
        "    # If the request was successful, print the response content\n",
        "    print(response.json())\n",
        "else:\n",
        "    # If there was an error, print the status code and reason\n",
        "    print(f\"Error: {response.status_code} - {response.reason}\")"
      ],
      "metadata": {
        "colab": {
          "base_uri": "https://localhost:8080/"
        },
        "id": "WKxJ8OYWutYK",
        "outputId": "f5fa0573-9a9a-4cb2-f921-0de19470b60b"
      },
      "execution_count": 8,
      "outputs": [
        {
          "output_type": "stream",
          "name": "stdout",
          "text": [
            "{'gecko_says': '(V3) To the Moon!'}\n"
          ]
        }
      ]
    },
    {
      "cell_type": "markdown",
      "source": [
        "### Get availabe CryptoCurrencies"
      ],
      "metadata": {
        "id": "ciP2KTNbubl3"
      }
    },
    {
      "cell_type": "code",
      "source": [
        "# Get Crypto Coins List\n",
        "url = 'https://api.coingecko.com/api/v3/coins/list'\n",
        "\n",
        "# Make the GET request\n",
        "response = requests.get(url)\n",
        "# Checking the status code\n",
        "if response.status_code == 200:\n",
        "    print('Success')\n",
        "else:\n",
        "    print(f\"Error: {response.status_code} - {response.reason}\")\n",
        "\n",
        "crypto_coins = response.json()\n",
        "\n",
        "crypto_coins = pd.DataFrame(crypto_coins) # Let's make it a DataFrame\n",
        "crypto_coins.head()"
      ],
      "metadata": {
        "colab": {
          "base_uri": "https://localhost:8080/",
          "height": 206
        },
        "id": "EVm0GTEstA4y",
        "outputId": "cec47d85-ad28-435d-bc05-64c1bfad4398"
      },
      "execution_count": 17,
      "outputs": [
        {
          "output_type": "execute_result",
          "data": {
            "text/plain": [
              "                    id symbol                 name\n",
              "0               01coin    zoc               01coin\n",
              "1               0chain    zcn                  Zus\n",
              "2  0-knowledge-network    0kn  0 Knowledge Network\n",
              "3                0-mee    ome                O-MEE\n",
              "4        0vix-protocol    vix        0VIX Protocol"
            ],
            "text/html": [
              "\n",
              "  <div id=\"df-c58e7ce5-fe3c-4dd8-8111-3a9f9cd6a322\" class=\"colab-df-container\">\n",
              "    <div>\n",
              "<style scoped>\n",
              "    .dataframe tbody tr th:only-of-type {\n",
              "        vertical-align: middle;\n",
              "    }\n",
              "\n",
              "    .dataframe tbody tr th {\n",
              "        vertical-align: top;\n",
              "    }\n",
              "\n",
              "    .dataframe thead th {\n",
              "        text-align: right;\n",
              "    }\n",
              "</style>\n",
              "<table border=\"1\" class=\"dataframe\">\n",
              "  <thead>\n",
              "    <tr style=\"text-align: right;\">\n",
              "      <th></th>\n",
              "      <th>id</th>\n",
              "      <th>symbol</th>\n",
              "      <th>name</th>\n",
              "    </tr>\n",
              "  </thead>\n",
              "  <tbody>\n",
              "    <tr>\n",
              "      <th>0</th>\n",
              "      <td>01coin</td>\n",
              "      <td>zoc</td>\n",
              "      <td>01coin</td>\n",
              "    </tr>\n",
              "    <tr>\n",
              "      <th>1</th>\n",
              "      <td>0chain</td>\n",
              "      <td>zcn</td>\n",
              "      <td>Zus</td>\n",
              "    </tr>\n",
              "    <tr>\n",
              "      <th>2</th>\n",
              "      <td>0-knowledge-network</td>\n",
              "      <td>0kn</td>\n",
              "      <td>0 Knowledge Network</td>\n",
              "    </tr>\n",
              "    <tr>\n",
              "      <th>3</th>\n",
              "      <td>0-mee</td>\n",
              "      <td>ome</td>\n",
              "      <td>O-MEE</td>\n",
              "    </tr>\n",
              "    <tr>\n",
              "      <th>4</th>\n",
              "      <td>0vix-protocol</td>\n",
              "      <td>vix</td>\n",
              "      <td>0VIX Protocol</td>\n",
              "    </tr>\n",
              "  </tbody>\n",
              "</table>\n",
              "</div>\n",
              "    <div class=\"colab-df-buttons\">\n",
              "\n",
              "  <div class=\"colab-df-container\">\n",
              "    <button class=\"colab-df-convert\" onclick=\"convertToInteractive('df-c58e7ce5-fe3c-4dd8-8111-3a9f9cd6a322')\"\n",
              "            title=\"Convert this dataframe to an interactive table.\"\n",
              "            style=\"display:none;\">\n",
              "\n",
              "  <svg xmlns=\"http://www.w3.org/2000/svg\" height=\"24px\" viewBox=\"0 -960 960 960\">\n",
              "    <path d=\"M120-120v-720h720v720H120Zm60-500h600v-160H180v160Zm220 220h160v-160H400v160Zm0 220h160v-160H400v160ZM180-400h160v-160H180v160Zm440 0h160v-160H620v160ZM180-180h160v-160H180v160Zm440 0h160v-160H620v160Z\"/>\n",
              "  </svg>\n",
              "    </button>\n",
              "\n",
              "  <style>\n",
              "    .colab-df-container {\n",
              "      display:flex;\n",
              "      gap: 12px;\n",
              "    }\n",
              "\n",
              "    .colab-df-convert {\n",
              "      background-color: #E8F0FE;\n",
              "      border: none;\n",
              "      border-radius: 50%;\n",
              "      cursor: pointer;\n",
              "      display: none;\n",
              "      fill: #1967D2;\n",
              "      height: 32px;\n",
              "      padding: 0 0 0 0;\n",
              "      width: 32px;\n",
              "    }\n",
              "\n",
              "    .colab-df-convert:hover {\n",
              "      background-color: #E2EBFA;\n",
              "      box-shadow: 0px 1px 2px rgba(60, 64, 67, 0.3), 0px 1px 3px 1px rgba(60, 64, 67, 0.15);\n",
              "      fill: #174EA6;\n",
              "    }\n",
              "\n",
              "    .colab-df-buttons div {\n",
              "      margin-bottom: 4px;\n",
              "    }\n",
              "\n",
              "    [theme=dark] .colab-df-convert {\n",
              "      background-color: #3B4455;\n",
              "      fill: #D2E3FC;\n",
              "    }\n",
              "\n",
              "    [theme=dark] .colab-df-convert:hover {\n",
              "      background-color: #434B5C;\n",
              "      box-shadow: 0px 1px 3px 1px rgba(0, 0, 0, 0.15);\n",
              "      filter: drop-shadow(0px 1px 2px rgba(0, 0, 0, 0.3));\n",
              "      fill: #FFFFFF;\n",
              "    }\n",
              "  </style>\n",
              "\n",
              "    <script>\n",
              "      const buttonEl =\n",
              "        document.querySelector('#df-c58e7ce5-fe3c-4dd8-8111-3a9f9cd6a322 button.colab-df-convert');\n",
              "      buttonEl.style.display =\n",
              "        google.colab.kernel.accessAllowed ? 'block' : 'none';\n",
              "\n",
              "      async function convertToInteractive(key) {\n",
              "        const element = document.querySelector('#df-c58e7ce5-fe3c-4dd8-8111-3a9f9cd6a322');\n",
              "        const dataTable =\n",
              "          await google.colab.kernel.invokeFunction('convertToInteractive',\n",
              "                                                    [key], {});\n",
              "        if (!dataTable) return;\n",
              "\n",
              "        const docLinkHtml = 'Like what you see? Visit the ' +\n",
              "          '<a target=\"_blank\" href=https://colab.research.google.com/notebooks/data_table.ipynb>data table notebook</a>'\n",
              "          + ' to learn more about interactive tables.';\n",
              "        element.innerHTML = '';\n",
              "        dataTable['output_type'] = 'display_data';\n",
              "        await google.colab.output.renderOutput(dataTable, element);\n",
              "        const docLink = document.createElement('div');\n",
              "        docLink.innerHTML = docLinkHtml;\n",
              "        element.appendChild(docLink);\n",
              "      }\n",
              "    </script>\n",
              "  </div>\n",
              "\n",
              "\n",
              "<div id=\"df-74dbf07a-41c6-4788-9439-ec2f851631f9\">\n",
              "  <button class=\"colab-df-quickchart\" onclick=\"quickchart('df-74dbf07a-41c6-4788-9439-ec2f851631f9')\"\n",
              "            title=\"Suggest charts\"\n",
              "            style=\"display:none;\">\n",
              "\n",
              "<svg xmlns=\"http://www.w3.org/2000/svg\" height=\"24px\"viewBox=\"0 0 24 24\"\n",
              "     width=\"24px\">\n",
              "    <g>\n",
              "        <path d=\"M19 3H5c-1.1 0-2 .9-2 2v14c0 1.1.9 2 2 2h14c1.1 0 2-.9 2-2V5c0-1.1-.9-2-2-2zM9 17H7v-7h2v7zm4 0h-2V7h2v10zm4 0h-2v-4h2v4z\"/>\n",
              "    </g>\n",
              "</svg>\n",
              "  </button>\n",
              "\n",
              "<style>\n",
              "  .colab-df-quickchart {\n",
              "      --bg-color: #E8F0FE;\n",
              "      --fill-color: #1967D2;\n",
              "      --hover-bg-color: #E2EBFA;\n",
              "      --hover-fill-color: #174EA6;\n",
              "      --disabled-fill-color: #AAA;\n",
              "      --disabled-bg-color: #DDD;\n",
              "  }\n",
              "\n",
              "  [theme=dark] .colab-df-quickchart {\n",
              "      --bg-color: #3B4455;\n",
              "      --fill-color: #D2E3FC;\n",
              "      --hover-bg-color: #434B5C;\n",
              "      --hover-fill-color: #FFFFFF;\n",
              "      --disabled-bg-color: #3B4455;\n",
              "      --disabled-fill-color: #666;\n",
              "  }\n",
              "\n",
              "  .colab-df-quickchart {\n",
              "    background-color: var(--bg-color);\n",
              "    border: none;\n",
              "    border-radius: 50%;\n",
              "    cursor: pointer;\n",
              "    display: none;\n",
              "    fill: var(--fill-color);\n",
              "    height: 32px;\n",
              "    padding: 0;\n",
              "    width: 32px;\n",
              "  }\n",
              "\n",
              "  .colab-df-quickchart:hover {\n",
              "    background-color: var(--hover-bg-color);\n",
              "    box-shadow: 0 1px 2px rgba(60, 64, 67, 0.3), 0 1px 3px 1px rgba(60, 64, 67, 0.15);\n",
              "    fill: var(--button-hover-fill-color);\n",
              "  }\n",
              "\n",
              "  .colab-df-quickchart-complete:disabled,\n",
              "  .colab-df-quickchart-complete:disabled:hover {\n",
              "    background-color: var(--disabled-bg-color);\n",
              "    fill: var(--disabled-fill-color);\n",
              "    box-shadow: none;\n",
              "  }\n",
              "\n",
              "  .colab-df-spinner {\n",
              "    border: 2px solid var(--fill-color);\n",
              "    border-color: transparent;\n",
              "    border-bottom-color: var(--fill-color);\n",
              "    animation:\n",
              "      spin 1s steps(1) infinite;\n",
              "  }\n",
              "\n",
              "  @keyframes spin {\n",
              "    0% {\n",
              "      border-color: transparent;\n",
              "      border-bottom-color: var(--fill-color);\n",
              "      border-left-color: var(--fill-color);\n",
              "    }\n",
              "    20% {\n",
              "      border-color: transparent;\n",
              "      border-left-color: var(--fill-color);\n",
              "      border-top-color: var(--fill-color);\n",
              "    }\n",
              "    30% {\n",
              "      border-color: transparent;\n",
              "      border-left-color: var(--fill-color);\n",
              "      border-top-color: var(--fill-color);\n",
              "      border-right-color: var(--fill-color);\n",
              "    }\n",
              "    40% {\n",
              "      border-color: transparent;\n",
              "      border-right-color: var(--fill-color);\n",
              "      border-top-color: var(--fill-color);\n",
              "    }\n",
              "    60% {\n",
              "      border-color: transparent;\n",
              "      border-right-color: var(--fill-color);\n",
              "    }\n",
              "    80% {\n",
              "      border-color: transparent;\n",
              "      border-right-color: var(--fill-color);\n",
              "      border-bottom-color: var(--fill-color);\n",
              "    }\n",
              "    90% {\n",
              "      border-color: transparent;\n",
              "      border-bottom-color: var(--fill-color);\n",
              "    }\n",
              "  }\n",
              "</style>\n",
              "\n",
              "  <script>\n",
              "    async function quickchart(key) {\n",
              "      const quickchartButtonEl =\n",
              "        document.querySelector('#' + key + ' button');\n",
              "      quickchartButtonEl.disabled = true;  // To prevent multiple clicks.\n",
              "      quickchartButtonEl.classList.add('colab-df-spinner');\n",
              "      try {\n",
              "        const charts = await google.colab.kernel.invokeFunction(\n",
              "            'suggestCharts', [key], {});\n",
              "      } catch (error) {\n",
              "        console.error('Error during call to suggestCharts:', error);\n",
              "      }\n",
              "      quickchartButtonEl.classList.remove('colab-df-spinner');\n",
              "      quickchartButtonEl.classList.add('colab-df-quickchart-complete');\n",
              "    }\n",
              "    (() => {\n",
              "      let quickchartButtonEl =\n",
              "        document.querySelector('#df-74dbf07a-41c6-4788-9439-ec2f851631f9 button');\n",
              "      quickchartButtonEl.style.display =\n",
              "        google.colab.kernel.accessAllowed ? 'block' : 'none';\n",
              "    })();\n",
              "  </script>\n",
              "</div>\n",
              "    </div>\n",
              "  </div>\n"
            ]
          },
          "metadata": {},
          "execution_count": 17
        }
      ]
    },
    {
      "cell_type": "code",
      "source": [
        "# Lets work with Bitcoin\n",
        "crypto_coins[crypto_coins['symbol'] == 'btc']"
      ],
      "metadata": {
        "colab": {
          "base_uri": "https://localhost:8080/",
          "height": 81
        },
        "id": "QIzjFD_0tJnQ",
        "outputId": "cd2d4c19-0053-4681-89e8-c9f14ee04fcd"
      },
      "execution_count": 21,
      "outputs": [
        {
          "output_type": "execute_result",
          "data": {
            "text/plain": [
              "           id symbol     name\n",
              "1353  bitcoin    btc  Bitcoin"
            ],
            "text/html": [
              "\n",
              "  <div id=\"df-8e9bc339-2788-42bb-bd6d-e47d3c594431\" class=\"colab-df-container\">\n",
              "    <div>\n",
              "<style scoped>\n",
              "    .dataframe tbody tr th:only-of-type {\n",
              "        vertical-align: middle;\n",
              "    }\n",
              "\n",
              "    .dataframe tbody tr th {\n",
              "        vertical-align: top;\n",
              "    }\n",
              "\n",
              "    .dataframe thead th {\n",
              "        text-align: right;\n",
              "    }\n",
              "</style>\n",
              "<table border=\"1\" class=\"dataframe\">\n",
              "  <thead>\n",
              "    <tr style=\"text-align: right;\">\n",
              "      <th></th>\n",
              "      <th>id</th>\n",
              "      <th>symbol</th>\n",
              "      <th>name</th>\n",
              "    </tr>\n",
              "  </thead>\n",
              "  <tbody>\n",
              "    <tr>\n",
              "      <th>1353</th>\n",
              "      <td>bitcoin</td>\n",
              "      <td>btc</td>\n",
              "      <td>Bitcoin</td>\n",
              "    </tr>\n",
              "  </tbody>\n",
              "</table>\n",
              "</div>\n",
              "    <div class=\"colab-df-buttons\">\n",
              "\n",
              "  <div class=\"colab-df-container\">\n",
              "    <button class=\"colab-df-convert\" onclick=\"convertToInteractive('df-8e9bc339-2788-42bb-bd6d-e47d3c594431')\"\n",
              "            title=\"Convert this dataframe to an interactive table.\"\n",
              "            style=\"display:none;\">\n",
              "\n",
              "  <svg xmlns=\"http://www.w3.org/2000/svg\" height=\"24px\" viewBox=\"0 -960 960 960\">\n",
              "    <path d=\"M120-120v-720h720v720H120Zm60-500h600v-160H180v160Zm220 220h160v-160H400v160Zm0 220h160v-160H400v160ZM180-400h160v-160H180v160Zm440 0h160v-160H620v160ZM180-180h160v-160H180v160Zm440 0h160v-160H620v160Z\"/>\n",
              "  </svg>\n",
              "    </button>\n",
              "\n",
              "  <style>\n",
              "    .colab-df-container {\n",
              "      display:flex;\n",
              "      gap: 12px;\n",
              "    }\n",
              "\n",
              "    .colab-df-convert {\n",
              "      background-color: #E8F0FE;\n",
              "      border: none;\n",
              "      border-radius: 50%;\n",
              "      cursor: pointer;\n",
              "      display: none;\n",
              "      fill: #1967D2;\n",
              "      height: 32px;\n",
              "      padding: 0 0 0 0;\n",
              "      width: 32px;\n",
              "    }\n",
              "\n",
              "    .colab-df-convert:hover {\n",
              "      background-color: #E2EBFA;\n",
              "      box-shadow: 0px 1px 2px rgba(60, 64, 67, 0.3), 0px 1px 3px 1px rgba(60, 64, 67, 0.15);\n",
              "      fill: #174EA6;\n",
              "    }\n",
              "\n",
              "    .colab-df-buttons div {\n",
              "      margin-bottom: 4px;\n",
              "    }\n",
              "\n",
              "    [theme=dark] .colab-df-convert {\n",
              "      background-color: #3B4455;\n",
              "      fill: #D2E3FC;\n",
              "    }\n",
              "\n",
              "    [theme=dark] .colab-df-convert:hover {\n",
              "      background-color: #434B5C;\n",
              "      box-shadow: 0px 1px 3px 1px rgba(0, 0, 0, 0.15);\n",
              "      filter: drop-shadow(0px 1px 2px rgba(0, 0, 0, 0.3));\n",
              "      fill: #FFFFFF;\n",
              "    }\n",
              "  </style>\n",
              "\n",
              "    <script>\n",
              "      const buttonEl =\n",
              "        document.querySelector('#df-8e9bc339-2788-42bb-bd6d-e47d3c594431 button.colab-df-convert');\n",
              "      buttonEl.style.display =\n",
              "        google.colab.kernel.accessAllowed ? 'block' : 'none';\n",
              "\n",
              "      async function convertToInteractive(key) {\n",
              "        const element = document.querySelector('#df-8e9bc339-2788-42bb-bd6d-e47d3c594431');\n",
              "        const dataTable =\n",
              "          await google.colab.kernel.invokeFunction('convertToInteractive',\n",
              "                                                    [key], {});\n",
              "        if (!dataTable) return;\n",
              "\n",
              "        const docLinkHtml = 'Like what you see? Visit the ' +\n",
              "          '<a target=\"_blank\" href=https://colab.research.google.com/notebooks/data_table.ipynb>data table notebook</a>'\n",
              "          + ' to learn more about interactive tables.';\n",
              "        element.innerHTML = '';\n",
              "        dataTable['output_type'] = 'display_data';\n",
              "        await google.colab.output.renderOutput(dataTable, element);\n",
              "        const docLink = document.createElement('div');\n",
              "        docLink.innerHTML = docLinkHtml;\n",
              "        element.appendChild(docLink);\n",
              "      }\n",
              "    </script>\n",
              "  </div>\n",
              "\n",
              "    </div>\n",
              "  </div>\n"
            ]
          },
          "metadata": {},
          "execution_count": 21
        }
      ]
    },
    {
      "cell_type": "markdown",
      "source": [
        "### Grab Historical Data"
      ],
      "metadata": {
        "id": "zI6m6P6vyRc0"
      }
    },
    {
      "cell_type": "code",
      "source": [
        "date_str = '12/7/2023'\n",
        "date_format = '%m/%d/%Y'\n",
        "\n",
        "# Convert the date string to a datetime object\n",
        "date_object = datetime.strptime(date_str, date_format)\n",
        "\n",
        "# Convert the datetime object to UNIX timestamp\n",
        "unix_timestamp = int(date_object.replace(tzinfo=timezone.utc).timestamp())"
      ],
      "metadata": {
        "id": "xvxGGS01ypml"
      },
      "execution_count": 58,
      "outputs": []
    },
    {
      "cell_type": "code",
      "source": [
        "coin_name = crypto_coins[crypto_coins['symbol'] == 'btc'].id.iloc[0]\n",
        "url = f'https://api.coingecko.com/api/v3/coins/{coin_name}/market_chart/range'\n",
        "\n",
        "date_start = '9/7/2023'\n",
        "date_end = '12/7/2023'\n",
        "date_format = '%m/%d/%Y'\n",
        "\n",
        "date_start = datetime.strptime(date_start, date_format)\n",
        "date_end = datetime.strptime(date_end, date_format)\n",
        "\n",
        "# Make start and end date UNIX timestamp\n",
        "date_start = int(date_start.replace(tzinfo=timezone.utc).timestamp())\n",
        "date_end = int(date_end.replace(tzinfo=timezone.utc).timestamp())\n",
        "\n",
        "params = {\n",
        "    'vs_currency': 'usd', # Using US Dollar\n",
        "    'from': date_start, # Date ranges need to be in UNIX Timestamp\n",
        "    'to': date_end,\n",
        "    'precision': 3 # Specifiy how many decimal points of precision\n",
        "}\n",
        "\n",
        "headers = {\n",
        "    'accept': 'application/json'\n",
        "}\n",
        "\n",
        "# Make the GET request\n",
        "response = requests.get(url, params=params, headers=headers)\n",
        "\n",
        "# Checking the status code\n",
        "if response.status_code == 200:\n",
        "    print('Success')\n",
        "else:\n",
        "    print(f\"Error: {response.status_code} - {response.reason}\")"
      ],
      "metadata": {
        "colab": {
          "base_uri": "https://localhost:8080/"
        },
        "id": "WQ8p3jXLtfqm",
        "outputId": "b5f8162b-042a-4a83-f4e1-47180dfb216c"
      },
      "execution_count": 59,
      "outputs": [
        {
          "output_type": "stream",
          "name": "stdout",
          "text": [
            "Success\n"
          ]
        }
      ]
    },
    {
      "cell_type": "code",
      "source": [
        "# Consolidate Data\n",
        "data = response.json()\n",
        "\n",
        "# Temporarily save data in separate dataframes\n",
        "df_prices = pd.DataFrame(data['prices'], columns=['timestamp', 'price'])\n",
        "df_market_caps = pd.DataFrame(data['market_caps'], columns=['timestamp', 'market_cap'])\n",
        "df_total_volumes = pd.DataFrame(data['total_volumes'], columns=['timestamp', 'total_volume'])\n",
        "\n",
        "# Merge DataFrames on the 'timestamp' column\n",
        "crypto_data = pd.merge(df_prices, df_market_caps, on='timestamp')\n",
        "crypto_data = pd.merge(crypto_data, df_total_volumes, on='timestamp')\n",
        "\n",
        "# Reassign timestamp as datetime\n",
        "crypto_data['timestamp'] = pd.to_datetime(crypto_data['timestamp'],unit='ms')\n",
        "crypto_data = crypto_data.set_index('timestamp')"
      ],
      "metadata": {
        "id": "O2EgFDsrwNTi"
      },
      "execution_count": 60,
      "outputs": []
    },
    {
      "cell_type": "markdown",
      "source": [
        "## Plot Market Trends"
      ],
      "metadata": {
        "id": "dDt7tmiW02r-"
      }
    },
    {
      "cell_type": "code",
      "source": [
        "sns.set_style(\"darkgrid\")\n",
        "\n",
        "# Plotting using Seaborn\n",
        "plt.figure(figsize=(10, 6))\n",
        "sns.lineplot(x='timestamp', y='price', data=crypto_data, marker='o', color='#F7931A')\n",
        "\n",
        "# Set plot labels and title\n",
        "plt.xlabel('')\n",
        "plt.ylabel('Price ($USD)')\n",
        "plt.title('Bitcoin (BTC) Price Over Time')\n",
        "\n",
        "# Add legend\n",
        "plt.legend(['BTC'], loc='upper left', fontsize=12)\n",
        "\n",
        "# Show the plot\n",
        "plt.show()"
      ],
      "metadata": {
        "colab": {
          "base_uri": "https://localhost:8080/",
          "height": 545
        },
        "id": "rDuG2Gtb0L-Z",
        "outputId": "ee4629a3-6887-4e99-a69d-19a2d395dae6"
      },
      "execution_count": 61,
      "outputs": [
        {
          "output_type": "display_data",
          "data": {
            "text/plain": [
              "<Figure size 1000x600 with 1 Axes>"
            ],
            "image/png": "[encoded data removed]"
          },
          "metadata": {}
        }
      ]
    },
    {
      "cell_type": "markdown",
      "source": [
        "## LSTM Model"
      ],
      "metadata": {
        "id": "zy2AIcx86QaE"
      }
    },
    {
      "cell_type": "code",
      "source": [
        "target_variable = 'price'\n",
        "target_series = crypto_data[target_variable].values.reshape(-1, 1)\n",
        "\n",
        "# Normalize the data using MinMaxScaler\n",
        "scaler = MinMaxScaler()\n",
        "target_scaled = scaler.fit_transform(target_series)"
      ],
      "metadata": {
        "id": "hwIjAzBi6P9e"
      },
      "execution_count": 64,
      "outputs": []
    },
    {
      "cell_type": "code",
      "source": [
        "# Function to create input sequences and labels\n",
        "def create_sequences(data, seq_length):\n",
        "    sequences = []\n",
        "    labels = []\n",
        "    for i in range(len(data) - seq_length):\n",
        "        seq = data[i:i+seq_length]\n",
        "        label = data[i+seq_length]\n",
        "        sequences.append(seq)\n",
        "        labels.append(label)\n",
        "    return np.array(sequences), np.array(labels)\n",
        "\n",
        "# Define sequence length\n",
        "sequence_length = 3  # You can adjust this based on your preference\n",
        "\n",
        "# Create sequences and labels\n",
        "X, y = create_sequences(target_scaled, sequence_length)"
      ],
      "metadata": {
        "id": "_TlQRMm-1lF5"
      },
      "execution_count": 65,
      "outputs": []
    },
    {
      "cell_type": "code",
      "source": [
        "# Use the final 20% of the data for testing\n",
        "split_index = int(len(X) * 0.8)\n",
        "X_train, X_test = X[:split_index], X[split_index:]\n",
        "y_train, y_test = y[:split_index], y[split_index:]"
      ],
      "metadata": {
        "id": "5EeyduMJAMGq"
      },
      "execution_count": 66,
      "outputs": []
    },
    {
      "cell_type": "code",
      "source": [
        "# Build the LSTM model\n",
        "model = Sequential([\n",
        "    LSTM(50, activation='relu', input_shape=(sequence_length, 1)),\n",
        "    Dense(1)\n",
        "])\n",
        "\n",
        "# Compile the model\n",
        "model.compile(optimizer='adam', loss='mse')\n",
        "\n",
        "# Train the model\n",
        "model.fit(X_train, y_train, epochs=50, batch_size=1, verbose=1)\n",
        "\n",
        "# Evaluate the model on the test set\n",
        "test_loss = model.evaluate(X_test, y_test, verbose=0)\n",
        "print(f'Test Loss: {test_loss}')\n",
        "\n",
        "# Make predictions on the test set\n",
        "predictions = model.predict(X_test)\n",
        "\n",
        "# Inverse transform the predictions to the original scale\n",
        "predictions_original = scaler.inverse_transform(predictions)\n",
        "y_test_original = scaler.inverse_transform(y_test)"
      ],
      "metadata": {
        "colab": {
          "base_uri": "https://localhost:8080/"
        },
        "id": "ZCiZIDR_AMYo",
        "outputId": "d14a532e-6721-4d8b-f57c-3a803859bc99"
      },
      "execution_count": 67,
      "outputs": [
        {
          "output_type": "stream",
          "name": "stdout",
          "text": [
            "Epoch 1/50\n",
            "71/71 [==============================] - 2s 13ms/step - loss: 0.0571\n",
            "Epoch 2/50\n",
            "71/71 [==============================] - 1s 14ms/step - loss: 0.0102\n",
            "Epoch 3/50\n",
            "71/71 [==============================] - 0s 5ms/step - loss: 0.0026\n",
            "Epoch 4/50\n",
            "71/71 [==============================] - 0s 5ms/step - loss: 0.0019\n",
            "Epoch 5/50\n",
            "71/71 [==============================] - 0s 4ms/step - loss: 0.0019\n",
            "Epoch 6/50\n",
            "71/71 [==============================] - 0s 4ms/step - loss: 0.0018\n",
            "Epoch 7/50\n",
            "71/71 [==============================] - 0s 4ms/step - loss: 0.0017\n",
            "Epoch 8/50\n",
            "71/71 [==============================] - 0s 4ms/step - loss: 0.0017\n",
            "Epoch 9/50\n",
            "71/71 [==============================] - 0s 4ms/step - loss: 0.0016\n",
            "Epoch 10/50\n",
            "71/71 [==============================] - 0s 4ms/step - loss: 0.0015\n",
            "Epoch 11/50\n",
            "71/71 [==============================] - 0s 3ms/step - loss: 0.0016\n",
            "Epoch 12/50\n",
            "71/71 [==============================] - 0s 3ms/step - loss: 0.0016\n",
            "Epoch 13/50\n",
            "71/71 [==============================] - 0s 3ms/step - loss: 0.0016\n",
            "Epoch 14/50\n",
            "71/71 [==============================] - 0s 3ms/step - loss: 0.0015\n",
            "Epoch 15/50\n",
            "71/71 [==============================] - 0s 2ms/step - loss: 0.0016\n",
            "Epoch 16/50\n",
            "71/71 [==============================] - 0s 2ms/step - loss: 0.0016\n",
            "Epoch 17/50\n",
            "71/71 [==============================] - 0s 3ms/step - loss: 0.0015\n",
            "Epoch 18/50\n",
            "71/71 [==============================] - 0s 3ms/step - loss: 0.0015\n",
            "Epoch 19/50\n",
            "71/71 [==============================] - 0s 3ms/step - loss: 0.0014\n",
            "Epoch 20/50\n",
            "71/71 [==============================] - 0s 3ms/step - loss: 0.0015\n",
            "Epoch 21/50\n",
            "71/71 [==============================] - 0s 3ms/step - loss: 0.0015\n",
            "Epoch 22/50\n",
            "71/71 [==============================] - 0s 3ms/step - loss: 0.0016\n",
            "Epoch 23/50\n",
            "71/71 [==============================] - 0s 3ms/step - loss: 0.0014\n",
            "Epoch 24/50\n",
            "71/71 [==============================] - 0s 3ms/step - loss: 0.0014\n",
            "Epoch 25/50\n",
            "71/71 [==============================] - 0s 3ms/step - loss: 0.0012\n",
            "Epoch 26/50\n",
            "71/71 [==============================] - 0s 3ms/step - loss: 0.0015\n",
            "Epoch 27/50\n",
            "71/71 [==============================] - 0s 3ms/step - loss: 0.0015\n",
            "Epoch 28/50\n",
            "71/71 [==============================] - 0s 3ms/step - loss: 0.0014\n",
            "Epoch 29/50\n",
            "71/71 [==============================] - 0s 3ms/step - loss: 0.0015\n",
            "Epoch 30/50\n",
            "71/71 [==============================] - 0s 3ms/step - loss: 0.0014\n",
            "Epoch 31/50\n",
            "71/71 [==============================] - 0s 3ms/step - loss: 0.0014\n",
            "Epoch 32/50\n",
            "71/71 [==============================] - 0s 3ms/step - loss: 0.0014\n",
            "Epoch 33/50\n",
            "71/71 [==============================] - 0s 3ms/step - loss: 0.0014\n",
            "Epoch 34/50\n",
            "71/71 [==============================] - 0s 4ms/step - loss: 0.0013\n",
            "Epoch 35/50\n",
            "71/71 [==============================] - 0s 4ms/step - loss: 0.0013\n",
            "Epoch 36/50\n",
            "71/71 [==============================] - 0s 5ms/step - loss: 0.0013\n",
            "Epoch 37/50\n",
            "71/71 [==============================] - 0s 5ms/step - loss: 0.0014\n",
            "Epoch 38/50\n",
            "71/71 [==============================] - 0s 3ms/step - loss: 0.0017\n",
            "Epoch 39/50\n",
            "71/71 [==============================] - 0s 3ms/step - loss: 0.0015\n",
            "Epoch 40/50\n",
            "71/71 [==============================] - 0s 3ms/step - loss: 0.0013\n",
            "Epoch 41/50\n",
            "71/71 [==============================] - 0s 3ms/step - loss: 0.0013\n",
            "Epoch 42/50\n",
            "71/71 [==============================] - 0s 3ms/step - loss: 0.0016\n",
            "Epoch 43/50\n",
            "71/71 [==============================] - 0s 2ms/step - loss: 0.0016\n",
            "Epoch 44/50\n",
            "71/71 [==============================] - 0s 2ms/step - loss: 0.0015\n",
            "Epoch 45/50\n",
            "71/71 [==============================] - 0s 3ms/step - loss: 0.0014\n",
            "Epoch 46/50\n",
            "71/71 [==============================] - 0s 3ms/step - loss: 0.0013\n",
            "Epoch 47/50\n",
            "71/71 [==============================] - 0s 2ms/step - loss: 0.0014\n",
            "Epoch 48/50\n",
            "71/71 [==============================] - 0s 3ms/step - loss: 0.0013\n",
            "Epoch 49/50\n",
            "71/71 [==============================] - 0s 3ms/step - loss: 0.0013\n",
            "Epoch 50/50\n",
            "71/71 [==============================] - 0s 3ms/step - loss: 0.0015\n",
            "Test Loss: 0.009207967668771744\n",
            "1/1 [==============================] - 0s 214ms/step\n"
          ]
        }
      ]
    },
    {
      "cell_type": "code",
      "source": [
        "# Plot the predictions against the actual values\n",
        "plt.figure(figsize=(10, 6))\n",
        "plt.plot(y_test_original, label='Actual Prices', marker='o')\n",
        "plt.plot(predictions_original, label='Predicted Prices', marker='o')\n",
        "plt.title('Bitcoin Price Prediction')\n",
        "plt.xlabel('Time Steps')\n",
        "plt.ylabel('Price')\n",
        "plt.legend()\n",
        "plt.show()"
      ],
      "metadata": {
        "colab": {
          "base_uri": "https://localhost:8080/",
          "height": 564
        },
        "id": "OeKoWacSASkB",
        "outputId": "30072dad-0333-4b20-bf37-9a00fdc80979"
      },
      "execution_count": 68,
      "outputs": [
        {
          "output_type": "display_data",
          "data": {
            "text/plain": [
              "<Figure size 1000x600 with 1 Axes>"
            ],
            "image/png": "[encoded data removed]"
          },
          "metadata": {}
        }
      ]
    },
    {
      "cell_type": "code",
      "source": [],
      "metadata": {
        "id": "_nz0gLzxAWHK"
      },
      "execution_count": null,
      "outputs": []
    }
  ]
}